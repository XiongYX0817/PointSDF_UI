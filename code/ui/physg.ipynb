{
 "cells": [
  {
   "cell_type": "markdown",
   "metadata": {
    "colab_type": "text",
    "id": "view-in-github"
   },
   "source": [
    "<a href=\"https://colab.research.google.com/github/stevliu/editnerf/blob/master/editnerf.ipynb\" target=\"_parent\"><img src=\"https://colab.research.google.com/assets/colab-badge.svg\" alt=\"Open In Colab\"/></a>"
   ]
  },
  {
   "cell_type": "code",
   "execution_count": 1,
   "metadata": {
    "id": "qAP1aheQUaHr",
    "scrolled": false
   },
   "outputs": [],
   "source": [
    "import editingapp\n",
    "from ui_utils import show\n",
    "\n",
    "# This specifies which dataset to use. \n",
    "# The choices are: 'photoshapes/config.txt', 'cars/config.txt', 'dosovitskiy_chairs/config.txt'\n",
    "config_file = 'photoshapes/config.txt'\n",
    "\n",
    "# This specifies which object instance to edit. \n",
    "# You can preview which instance number corresponds to which instance using the next cell. \n",
    "# For PhotoShapes, we find instances 0, 1, 5, 7, and 11 are nice to edit. \n",
    "instance_num = 5\n",
    "\n",
    "# This specifies the number of views to display. \n",
    "# Consider reducing this number if the interface is taking too long to load/update.\n",
    "num_canvases = 3\n",
    "\n",
    "interface = editingapp.PhySGEditingApp(instance=instance_num, config=config_file, num_canvases=num_canvases)\n",
    "show(interface)"
   ]
  },
  {
   "cell_type": "code",
   "execution_count": null,
   "metadata": {},
   "outputs": [],
   "source": []
  }
 ],
 "metadata": {
  "accelerator": "GPU",
  "colab": {
   "collapsed_sections": [],
   "include_colab_link": true,
   "name": "editnerf.ipynb",
   "provenance": [],
   "toc_visible": true
  },
  "kernelspec": {
   "display_name": "Python 3",
   "language": "python",
   "name": "python3"
  },
  "language_info": {
   "codemirror_mode": {
    "name": "ipython",
    "version": 3
   },
   "file_extension": ".py",
   "mimetype": "text/x-python",
   "name": "python",
   "nbconvert_exporter": "python",
   "pygments_lexer": "ipython3",
   "version": "3.6.15"
  },
  "vscode": {
   "interpreter": {
    "hash": "eb20a0d1d96b8cab4944bad28d5e743225c1b341f375744c2b8f7b633173b40a"
   }
  }
 },
 "nbformat": 4,
 "nbformat_minor": 1
}
